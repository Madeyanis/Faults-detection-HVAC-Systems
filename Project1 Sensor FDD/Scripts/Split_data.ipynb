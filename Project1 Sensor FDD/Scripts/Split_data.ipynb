{
 "cells": [
  {
   "cell_type": "code",
   "execution_count": 1,
   "id": "ccfc5bf1-72f2-4ca2-9124-38a51857f513",
   "metadata": {},
   "outputs": [],
   "source": [
    "import numpy as np\n",
    "import pandas as pd\n",
    "import matplotlib.pyplot as plt"
   ]
  },
  {
   "cell_type": "code",
   "execution_count": 2,
   "id": "ac034d7c-3b43-4ada-8c2b-5c99f678ec6b",
   "metadata": {},
   "outputs": [],
   "source": [
    "data = pd.read_csv('MZVAV-1.csv')\n",
    "cols = data.columns.tolist()\n",
    "cols_new = ['Time', 'SA T', 'SA T Set', 'OA T', 'MA T', 'RA T',\n",
    "            'SA Fan Stat', 'RA Fan Stat', 'SA Speed', 'RA Speed',\n",
    "            'OA Damper', 'RA Damper', 'Cooling valve', 'Heating valve',\n",
    "            'SA Pressure Set', 'SA Pressure', 'Occupancy', 'Fault']\n",
    "dii = dict(zip(cols, cols_new))\n",
    "data = data.rename(columns=dii)\n"
   ]
  },
  {
   "cell_type": "code",
   "execution_count": 3,
   "id": "1dfecb25-f663-4836-a498-964be24a145b",
   "metadata": {},
   "outputs": [],
   "source": [
    "def split_data(data):\n",
    "\n",
    "    step = 1440\n",
    "    start = 0\n",
    "    jours = int(data.shape[0] / step)\n",
    "\n",
    "    for i in range(1, jours+1):\n",
    "        jour = data.iloc[start : start + step]\n",
    "        jour.to_csv(path_or_buf=\"jour\"+str(i)+\".csv\")\n",
    "        start = start + step"
   ]
  },
  {
   "cell_type": "code",
   "execution_count": 4,
   "id": "e5035d05-050f-465c-80e5-1dba6e0d2321",
   "metadata": {},
   "outputs": [],
   "source": [
    "## to split the data\n",
    "# split_data(data)"
   ]
  }
 ],
 "metadata": {
  "kernelspec": {
   "display_name": "Python 3",
   "language": "python",
   "name": "python3"
  },
  "language_info": {
   "codemirror_mode": {
    "name": "ipython",
    "version": 3
   },
   "file_extension": ".py",
   "mimetype": "text/x-python",
   "name": "python",
   "nbconvert_exporter": "python",
   "pygments_lexer": "ipython3",
   "version": "3.8.8"
  }
 },
 "nbformat": 4,
 "nbformat_minor": 5
}
