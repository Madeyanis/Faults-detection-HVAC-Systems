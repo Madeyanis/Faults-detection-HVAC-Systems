{
 "cells": [
  {
   "cell_type": "code",
   "execution_count": 5,
   "id": "93259b7b-422d-4cdf-bfa6-478cdf300c2b",
   "metadata": {},
   "outputs": [],
   "source": [
    "import pandas as pd\n",
    "import numpy as np\n",
    "from sklearn import svm\n",
    "from sklearn.model_selection import cross_val_score\n",
    "from sklearn import metrics\n",
    "from sklearn.model_selection import train_test_split\n",
    "from sklearn.pipeline import make_pipeline\n",
    "from sklearn.preprocessing import StandardScaler\n",
    "from sklearn.model_selection import ShuffleSplit\n",
    "from sklearn.cluster import KMeans"
   ]
  },
  {
   "cell_type": "code",
   "execution_count": 2,
   "id": "9969c6c7-2699-4998-b7be-84d9474031fa",
   "metadata": {},
   "outputs": [],
   "source": [
    "# data 1°C\n",
    "data_f_1C = pd.read_csv('Fault 1C/faulted_1C.csv', index_col=[0])\n",
    "data_uf_1C = pd.read_csv('Fault 1C/unfaulted_1C.csv', index_col=[0])\n",
    "data_uf_1C['Fault'] = 0\n",
    "\n",
    "# data 2°C\n",
    "data_f_2C = pd.read_csv('Fault 2C/faulted_2C.csv', index_col=[0])\n",
    "data_uf_2C = pd.read_csv('Fault 2C/unfaulted_2C.csv', index_col=[0])\n",
    "data_uf_2C['Fault'] = 0\n",
    "data_f_2C['Fault'] = 2\n",
    "\n",
    "# data 4°C\n",
    "data_f_4C = pd.read_csv('Fault 4C/faulted_4C.csv', index_col=[0])\n",
    "data_uf_4C = pd.read_csv('Fault 4C/unfaulted_4C.csv', index_col=[0])\n",
    "data_uf_4C['Fault'] = 0\n",
    "data_f_4C['Fault'] = 4\n",
    "\n",
    "# unfaulted data\n",
    "data_uf_summer = pd.read_csv('Unfaulted data/unfaulted_summer.csv', index_col=[0])\n",
    "data_uf_spring = pd.read_csv('Unfaulted data/unfaulted_spring.csv', index_col=[0])\n",
    "data_uf_winter = pd.read_csv('Unfaulted data/unfaulted_winter.csv', index_col=[0])\n",
    "data_uf_automn = pd.read_csv('Unfaulted data/unfaulted_automn.csv', index_col=[0])"
   ]
  },
  {
   "cell_type": "code",
   "execution_count": 3,
   "id": "f8ad073b-a3fa-401d-ac96-aa848550e14c",
   "metadata": {},
   "outputs": [],
   "source": [
    "# data faulted and unfaulted (1°C, 2°C and 4°C)\n",
    "data = pd.concat([data_f_1C, data_f_2C, data_f_4C, data_uf_summer, data_uf_spring, data_uf_winter, data_uf_automn])\n",
    "x = data.drop(columns=['Fault', 'Time'])\n",
    "y = data['Fault']\n",
    "X_train, X_test, y_train, y_test = train_test_split(x, y, test_size=0.2, random_state=1)"
   ]
  },
  {
   "cell_type": "code",
   "execution_count": 6,
   "id": "faf4c146-3d5d-424b-8cb0-91c6edbd0b82",
   "metadata": {},
   "outputs": [],
   "source": [
    "kmeans = KMeans(n_clusters=4, random_state=0).fit(X_train)"
   ]
  },
  {
   "cell_type": "code",
   "execution_count": 9,
   "id": "9b7d0e46-bd7a-4737-9722-c195649cd3e1",
   "metadata": {},
   "outputs": [
    {
     "data": {
      "text/plain": [
       "-9576965.184515988"
      ]
     },
     "execution_count": 9,
     "metadata": {},
     "output_type": "execute_result"
    }
   ],
   "source": [
    "kmeans.score(x, y)"
   ]
  },
  {
   "cell_type": "code",
   "execution_count": null,
   "id": "8d004bf6-a2ff-4340-9632-58928ef8c315",
   "metadata": {},
   "outputs": [],
   "source": []
  }
 ],
 "metadata": {
  "kernelspec": {
   "display_name": "Python 3",
   "language": "python",
   "name": "python3"
  },
  "language_info": {
   "codemirror_mode": {
    "name": "ipython",
    "version": 3
   },
   "file_extension": ".py",
   "mimetype": "text/x-python",
   "name": "python",
   "nbconvert_exporter": "python",
   "pygments_lexer": "ipython3",
   "version": "3.8.8"
  }
 },
 "nbformat": 4,
 "nbformat_minor": 5
}
