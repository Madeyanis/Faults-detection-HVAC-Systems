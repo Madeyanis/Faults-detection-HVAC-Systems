{
 "cells": [
  {
   "cell_type": "code",
   "execution_count": 4,
   "id": "fe7a19f4-896b-4adb-ba6a-894899c69c7b",
   "metadata": {},
   "outputs": [],
   "source": [
    "import pandas as pd\n",
    "import numpy as np\n",
    "import matplotlib.pyplot as plt\n",
    "import seaborn as sns"
   ]
  },
  {
   "cell_type": "code",
   "execution_count": 24,
   "id": "44838aa3-4242-467f-9816-af2119c932e3",
   "metadata": {},
   "outputs": [],
   "source": [
    "## unfaulted winter\n",
    "\n",
    "j = pd.read_csv('1Janvier/janvier.csv', index_col=[0])\n",
    "f = pd.read_csv('2Fevrier/Fevrier.csv', index_col=[0])\n",
    "f1 = f[0:5*1440] \n",
    "unfaulted_winter = pd.concat([j, f1])\n",
    "#unfaulted_winter.to_csv('unfaulted_winter.csv')"
   ]
  },
  {
   "cell_type": "code",
   "execution_count": 53,
   "id": "a128044e-d891-4daf-a33b-3b6d85f76719",
   "metadata": {},
   "outputs": [],
   "source": [
    "## unfaulted spring\n",
    "m = pd.read_csv('5mai/mai.csv', index_col=[0])\n",
    "m1 = m[:6*1440]\n",
    "unfaulted_spring = m1\n",
    "#unfaulted_spring.to_csv('unfaulted_spring.csv')"
   ]
  },
  {
   "cell_type": "code",
   "execution_count": 63,
   "id": "de975424-d4cb-4b90-bd03-7f9cb9ca7ff4",
   "metadata": {},
   "outputs": [],
   "source": [
    "## unfaulted summer\n",
    "s = pd.read_csv('7Juillet_8Aout/Juillet_Aout.csv', index_col=[0])\n",
    "unfaulted_summer = s.iloc[:7*1440]\n",
    "#unfaulted_summer.to_csv('unfaulted_summer.csv')"
   ]
  },
  {
   "cell_type": "code",
   "execution_count": 71,
   "id": "3e6d4421-ab02-4e0d-bb7c-b8ccde1f0531",
   "metadata": {},
   "outputs": [],
   "source": [
    "## unfaulted automn\n",
    "october30 = pd.read_csv('9Septembre_10Octobre/octobre30.csv', index_col=[0])\n",
    "october31 = pd.read_csv('9Septembre_10Octobre/octobre31.csv', index_col=[0])\n",
    "november = pd.read_csv('11Novembre/novembre.csv', index_col=[0])\n",
    "\n",
    "unfaulted_automn = pd.concat([october30, october31, november[:5*1440]])\n",
    "\n",
    "#unfaulted_automn.to_csv('unfaulted_automn.csv')"
   ]
  },
  {
   "cell_type": "code",
   "execution_count": null,
   "id": "99b698b6-2f69-4f51-a7a3-1a2285cafbdb",
   "metadata": {},
   "outputs": [],
   "source": [
    "# Fault +1°C equivalent à +1.8°F farahneit\n",
    "\n",
    "# part 1\n",
    "fevrier = pd.read_csv('2Fevrier/Fevrier.csv', index_col = [0])\n",
    "fevrier = fevrier.iloc[5*1440:12*1440]\n",
    "# part 2\n",
    "mai = pd.read_csv('5Mai/Mai.csv', index_col = [0])\n",
    "mai = mai.iloc[6*1440:12*1440]\n",
    "# part 3\n",
    "Aout = pd.read_csv('7Juillet_8Aout/Juillet_Aout.csv', index_col = [0])\n",
    "Aout = Aout.iloc[7*1440:14*1440]\n",
    "# part 4\n",
    "novembre = pd.read_csv('11Novembre/novembre.csv', index_col = [0])\n",
    "novembre = novembre.iloc[5*1440:12*1440]\n",
    "\n",
    "faulted_1C = pd.concat([fevrier, mai, Aout, novembre])\n",
    "#faulted_1C.to_csv('faulted_1C.csv')\n",
    "\n",
    "# Unfault +1°C equivalent à +1.8°F farahneit\n",
    "\n",
    "faulted_1C = pd.read_csv('faulted_1C.csv', index_col=[0])\n",
    "unfaulted_1C = faulted_1C.copy()\n",
    "unfaulted_1C['OA T'] = faulted_1C['OA T'] - 1.8\n",
    "ax = faulted_1C.plot(x='Time', y='OA T', figsize=(18, 12))\n",
    "unfaulted_1C.plot(ax=ax, x='Time', y='OA T')\n",
    "unfaulted_1C.to_csv('unfaulted_1C.csv')"
   ]
  },
  {
   "cell_type": "code",
   "execution_count": null,
   "id": "55e444b9-d9e1-422b-b92b-76002cf7d353",
   "metadata": {},
   "outputs": [],
   "source": [
    "# Fault +2°C equivalent à 3.6 °F farahneit\n",
    "\n",
    "# part 1\n",
    "fevrier = pd.read_csv('2Fevrier/Fevrier.csv', index_col = [0])\n",
    "fevrier = fevrier.iloc[12*1440:19*1440]\n",
    "# part 2\n",
    "mai = pd.read_csv('5Mai/Mai.csv', index_col = [0])\n",
    "mai = mai.iloc[12*1440:18*1440]\n",
    "# part 3\n",
    "aout = pd.read_csv('7Juillet_8Aout/Juillet_Aout.csv', index_col=[0])\n",
    "aout = aout.iloc[14*1440:21*1440]\n",
    "# part 4\n",
    "novembre = pd.read_csv('11Novembre/novembre.csv', index_col=[0])\n",
    "novembre = novembre.iloc[12*1440:19*1440]\n",
    "\n",
    "faulted_2C = pd.concat([fevrier, mai, aout, novembre])\n",
    "#faulted_2C.to_csv('faulted_2C.csv')\n",
    "\n",
    "# Unfault +2°C equivalent à +3.6°F farahneit\n",
    "\n",
    "faulted_2C = pd.read_csv('faulted_2C.csv', index_col=[0])\n",
    "unfaulted_2C = faulted_2C.copy()\n",
    "unfaulted_2C['OA T'] = faulted_2C['OA T'] - 3.6\n",
    "ax = faulted_2C.plot(x='Time', y='OA T', figsize=(18, 12))\n",
    "unfaulted_2C.plot(ax=ax, x='Time', y='OA T')\n",
    "#unfaulted_2C.to_csv('unfaulted_2C.csv')\n"
   ]
  },
  {
   "cell_type": "code",
   "execution_count": null,
   "id": "0ab4a0fe-297e-46ee-aea0-330b7159d84a",
   "metadata": {},
   "outputs": [],
   "source": [
    "# Fault +4°C equivalent à 7.2°F farahneit\n",
    "\n",
    "# part 1\n",
    "fevrier = pd.read_csv('2Fevrier/Fevrier.csv', index_col = [0])\n",
    "fevrier = fevrier.iloc[19*1440:26*1440]\n",
    "# part 2\n",
    "mai = pd.read_csv('5Mai/Mai.csv', index_col=[0])\n",
    "mai = mai.iloc[18*1440:24*1440]\n",
    "# part 3\n",
    "aout = pd.read_csv('7Juillet_8Aout/Juillet_Aout.csv', index_col=[0])\n",
    "aout = aout.iloc[21*1440:28*1440]\n",
    "# part 4\n",
    "novembre = pd.read_csv('11Novembre/novembre.csv', index_col=[0])\n",
    "novembre = novembre.iloc[19*1440:26*1440]\n",
    "\n",
    "#concat\n",
    "faulted_4C = pd.concat([fevrier, mai, aout, novembre])\n",
    "faulted_4C.to_csv('faulted_4C.csv')\n",
    "\n",
    "# Unfault +4°C equivalent à +7.2°F farahneit\n",
    "\n",
    "faulted_4C = pd.read_csv('faulted_4C.csv', index_col=[0])\n",
    "unfaulted_4C = faulted_4C.copy()\n",
    "unfaulted_4C['OA T'] = faulted_4C['OA T'] - 7.2\n",
    "ax = faulted_4C.plot(x='Time', y='OA T', figsize=(18, 12))\n",
    "unfaulted_4C.plot(ax=ax, x='Time', y='OA T')\n",
    "unfaulted_4C.to_csv('unfaulted_4C.csv')"
   ]
  },
  {
   "cell_type": "code",
   "execution_count": null,
   "id": "73f0884f-482a-4288-910f-8ba129b4b324",
   "metadata": {},
   "outputs": [],
   "source": [
    "# Fault -1°C equivalent à -1.8°F farahneit\n",
    "\n",
    "# part 1\n",
    "fevrier = pd.read_csv('2Fevrier/Fevrier.csv', index_col=[0])\n",
    "fevrier = fevrier.iloc[26*1440:]\n",
    "# part 2\n",
    "mars = pd.read_csv('3Mars/Mars.csv', index_col=[0])\n",
    "mars = mars.iloc[:5*1440]\n",
    "# part 3\n",
    "mai = pd.read_csv('5Mai/Mai.csv', index_col=[0])\n",
    "mai = mai.iloc[24*1440:]\n",
    "# part 4\n",
    "juin = pd.read_csv('6Juin/Juin.csv', index_col=[0])\n",
    "juin = juin.iloc[:4*1440]\n",
    "# part 5\n",
    "aout = pd.read_csv('7Juillet_8Aout/Juillet_Aout.csv', index_col=[0])\n",
    "aout = aout.iloc[28*1440:]\n",
    "# part 6\n",
    "septembre = pd.read_csv('9Septembre_10Octobre/septembre_octobre.csv', index_col=[0])\n",
    "septembre = septembre.iloc[:3*1440]\n",
    "# part 7\n",
    "novembre = pd.read_csv('11Novembre/novembre.csv', index_col=[0])\n",
    "novembre = novembre.iloc[26*1440:]\n",
    "# part 8\n",
    "decembre = pd.read_csv('12Decembre/decembre.csv', index_col=[0])\n",
    "decembre = decembre.iloc[:3*1440]\n",
    "\n",
    "#concat\n",
    "faulted_moins1C = pd.concat([fevrier, mars, mai, juin, aout, septembre, novembre, decembre])\n",
    "faulted_moins1C.to_csv('Fault -1C/faulted_moins1C.csv')\n",
    "\n",
    "decembre.plot(x='Time', y='OA T', figsize=(20, 8))\n"
   ]
  },
  {
   "cell_type": "code",
   "execution_count": null,
   "id": "4877bc7c-e161-4a22-b7f5-e30f923e1c80",
   "metadata": {},
   "outputs": [],
   "source": [
    "# Fault -2°C equivalent à -3.6°F farahneit\n",
    "\n",
    "# part 1\n",
    "mars = pd.read_csv('3Mars/Mars.csv', index_col=[0])\n",
    "mars = mars.iloc[5*1440:12*1440]\n",
    "# part 2\n",
    "juin = pd.read_csv('6Juin/Juin.csv', index_col=[0])\n",
    "juin = juin.iloc[4*1440:10*1440]\n",
    "# part 3\n",
    "septembre = pd.read_csv('9Septembre_10Octobre/septembre_octobre.csv', index_col=[0])\n",
    "septembre = septembre.iloc[3*1440:10*1440]\n",
    "# part 4\n",
    "decembre = pd.read_csv('12Decembre/decembre.csv', index_col=[0])\n",
    "decembre = decembre.iloc[3*1440:10*1440]\n",
    "\n",
    "#concat\n",
    "faulted_moins2C = pd.concat([mars, juin, septembre, decembre])\n",
    "faulted_moins2C.to_csv('Fault -2C/faulted_moins2C.csv')\n",
    "\n",
    "faulted_moins2C.plot(x='Time', y='OA T', figsize=(20, 8))"
   ]
  },
  {
   "cell_type": "code",
   "execution_count": 36,
   "id": "7d9b0253-712e-4d6a-ae2f-abba309ad7ee",
   "metadata": {},
   "outputs": [
    {
     "data": {
      "text/plain": [
       "<AxesSubplot:xlabel='Time'>"
      ]
     },
     "execution_count": 36,
     "metadata": {},
     "output_type": "execute_result"
    },
    {
     "data": {
      "image/png": "[encoded data removed]",
      "text/plain": [
       "<Figure size 1440x576 with 1 Axes>"
      ]
     },
     "metadata": {
      "needs_background": "light"
     },
     "output_type": "display_data"
    }
   ],
   "source": [
    "# Fault -4°C equivalent à -7.2°F farahneit\n",
    "\n",
    "# part 1\n",
    "mars = pd.read_csv('3Mars/Mars.csv', index_col=[0])\n",
    "mars = mars.iloc[12*1440:19*1440]\n",
    "# part 2\n",
    "juin = pd.read_csv('6Juin/Juin.csv', index_col=[0])\n",
    "juin = juin.iloc[10*1440:16*1440]\n",
    "# part 3\n",
    "septembre = pd.read_csv('9Septembre_10Octobre/septembre_octobre.csv', index_col=[0])\n",
    "septembre = septembre.iloc[10*1440:17*1440]\n",
    "# part 4\n",
    "decembre = pd.read_csv('12Decembre/decembre.csv', index_col=[0])\n",
    "decembre = decembre.iloc[10*1440:17*1440]\n",
    "\n",
    "#concat\n",
    "faulted_moins4C = pd.concat([mars, juin, septembre, decembre])\n",
    "faulted_moins4C.to_csv('Fault -4C/faulted_moins4C.csv')\n",
    "\n",
    "decembre.plot(x='Time', y='OA T', figsize=(20, 8))"
   ]
  },
  {
   "cell_type": "code",
   "execution_count": null,
   "id": "123beae5-e596-422d-b371-b314493f2385",
   "metadata": {},
   "outputs": [],
   "source": []
  }
 ],
 "metadata": {
  "kernelspec": {
   "display_name": "Python 3",
   "language": "python",
   "name": "python3"
  },
  "language_info": {
   "codemirror_mode": {
    "name": "ipython",
    "version": 3
   },
   "file_extension": ".py",
   "mimetype": "text/x-python",
   "name": "python",
   "nbconvert_exporter": "python",
   "pygments_lexer": "ipython3",
   "version": "3.8.8"
  }
 },
 "nbformat": 4,
 "nbformat_minor": 5
}
