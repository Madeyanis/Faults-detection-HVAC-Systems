{
 "cells": [
  {
   "cell_type": "code",
   "execution_count": 1,
   "id": "d5a0b8f2-8872-4996-aa4d-9a99e45a58d8",
   "metadata": {},
   "outputs": [],
   "source": [
    "import pandas as pd\n",
    "import numpy as np\n",
    "from sklearn.model_selection import cross_val_score\n",
    "from sklearn import metrics\n",
    "from sklearn.model_selection import train_test_split\n",
    "from sklearn.neural_network import MLPClassifier\n",
    "from sklearn.model_selection import ShuffleSplit"
   ]
  },
  {
   "cell_type": "code",
   "execution_count": 8,
   "id": "4a2f0296-dd4e-49d9-95bd-52ee31f64575",
   "metadata": {},
   "outputs": [],
   "source": [
    "# data 1°C\n",
    "data_f_1C = pd.read_csv('Fault 1C/faulted_1C.csv', index_col=[0])\n",
    "data_uf_1C = pd.read_csv('Fault 1C/unfaulted_1C.csv', index_col=[0])\n",
    "data_uf_1C['Fault'] = 0\n",
    "\n",
    "# data 2°C\n",
    "data_f_2C = pd.read_csv('Fault 2C/faulted_2C.csv', index_col=[0])\n",
    "data_uf_2C = pd.read_csv('Fault 2C/unfaulted_2C.csv', index_col=[0])\n",
    "data_uf_2C['Fault'] = 0\n",
    "data_f_2C['Fault'] = 2\n",
    "\n",
    "# data 4°C\n",
    "data_f_4C = pd.read_csv('Fault 4C/faulted_4C.csv', index_col=[0])\n",
    "data_uf_4C = pd.read_csv('Fault 4C/unfaulted_4C.csv', index_col=[0])\n",
    "data_uf_4C['Fault'] = 0\n",
    "data_f_4C['Fault'] = 4\n",
    "\n",
    "# data -1°C \n",
    "data_f_moins1C = pd.read_csv('Fault -1C/faulted_moins1C.csv', index_col=[0])\n",
    "data_f_moins1C['fault'] = 5\n",
    "\n",
    "# unfaulted data\n",
    "data_uf_summer = pd.read_csv('Unfaulted data/unfaulted_summer.csv', index_col=[0])\n",
    "data_uf_spring = pd.read_csv('Unfaulted data/unfaulted_spring.csv', index_col=[0])\n",
    "data_uf_winter = pd.read_csv('Unfaulted data/unfaulted_winter.csv', index_col=[0])\n",
    "data_uf_automn = pd.read_csv('Unfaulted data/unfaulted_automn.csv', index_col=[0])"
   ]
  },
  {
   "cell_type": "code",
   "execution_count": 9,
   "id": "96c6abd9-c2b8-4cc2-a9eb-1ee26d5a8154",
   "metadata": {},
   "outputs": [],
   "source": [
    "# data faulted and unfaulted (1°C, 2°C, 4°C and -1°C)\n",
    "data = pd.concat([data_f_1C, data_f_2C, data_f_4C, data_f_moins1C, data_uf_summer, data_uf_spring, data_uf_winter, data_uf_automn])\n",
    "x = data.drop(columns=['Fault', 'Time'])\n",
    "y = data['Fault']\n",
    "X_train, X_test, y_train, y_test = train_test_split(x, y, test_size=0.2, random_state=1)"
   ]
  },
  {
   "cell_type": "code",
   "execution_count": 10,
   "id": "5649290f-7157-4236-be16-be335d0d45ca",
   "metadata": {},
   "outputs": [
    {
     "name": "stdout",
     "output_type": "stream",
     "text": [
      "[nan]\n"
     ]
    },
    {
     "name": "stderr",
     "output_type": "stream",
     "text": [
      "C:\\Users\\masdoua1\\AppData\\Roaming\\Python\\Python38\\site-packages\\sklearn\\model_selection\\_validation.py:615: FitFailedWarning: Estimator fit failed. The score on this train-test partition for these parameters will be set to nan. Details: \n",
      "Traceback (most recent call last):\n",
      "  File \"C:\\Users\\masdoua1\\AppData\\Roaming\\Python\\Python38\\site-packages\\sklearn\\model_selection\\_validation.py\", line 598, in _fit_and_score\n",
      "    estimator.fit(X_train, y_train, **fit_params)\n",
      "  File \"C:\\Users\\masdoua1\\AppData\\Roaming\\Python\\Python38\\site-packages\\sklearn\\neural_network\\_multilayer_perceptron.py\", line 673, in fit\n",
      "    return self._fit(X, y, incremental=False)\n",
      "  File \"C:\\Users\\masdoua1\\AppData\\Roaming\\Python\\Python38\\site-packages\\sklearn\\neural_network\\_multilayer_perceptron.py\", line 364, in _fit\n",
      "    X, y = self._validate_input(X, y, incremental, reset=first_pass)\n",
      "  File \"C:\\Users\\masdoua1\\AppData\\Roaming\\Python\\Python38\\site-packages\\sklearn\\neural_network\\_multilayer_perceptron.py\", line 971, in _validate_input\n",
      "    X, y = self._validate_data(X, y, accept_sparse=['csr', 'csc'],\n",
      "  File \"C:\\Users\\masdoua1\\AppData\\Roaming\\Python\\Python38\\site-packages\\sklearn\\base.py\", line 433, in _validate_data\n",
      "    X, y = check_X_y(X, y, **check_params)\n",
      "  File \"C:\\Users\\masdoua1\\AppData\\Roaming\\Python\\Python38\\site-packages\\sklearn\\utils\\validation.py\", line 63, in inner_f\n",
      "    return f(*args, **kwargs)\n",
      "  File \"C:\\Users\\masdoua1\\AppData\\Roaming\\Python\\Python38\\site-packages\\sklearn\\utils\\validation.py\", line 871, in check_X_y\n",
      "    X = check_array(X, accept_sparse=accept_sparse,\n",
      "  File \"C:\\Users\\masdoua1\\AppData\\Roaming\\Python\\Python38\\site-packages\\sklearn\\utils\\validation.py\", line 63, in inner_f\n",
      "    return f(*args, **kwargs)\n",
      "  File \"C:\\Users\\masdoua1\\AppData\\Roaming\\Python\\Python38\\site-packages\\sklearn\\utils\\validation.py\", line 720, in check_array\n",
      "    _assert_all_finite(array,\n",
      "  File \"C:\\Users\\masdoua1\\AppData\\Roaming\\Python\\Python38\\site-packages\\sklearn\\utils\\validation.py\", line 103, in _assert_all_finite\n",
      "    raise ValueError(\n",
      "ValueError: Input contains NaN, infinity or a value too large for dtype('float64').\n",
      "\n",
      "  warnings.warn(\"Estimator fit failed. The score on this train-test\"\n"
     ]
    }
   ],
   "source": [
    "## Neural network\n",
    "\n",
    "clf = MLPClassifier(solver='adam', alpha=1e-5, hidden_layer_sizes=(7, 30), random_state=1, verbose=False, max_iter=300)\n",
    "cv = ShuffleSplit(n_splits=1, test_size=0.3, random_state=0)\n",
    "scores = cross_val_score(clf, x, y, cv=cv)\n",
    "print(scores)"
   ]
  },
  {
   "cell_type": "code",
   "execution_count": 19,
   "id": "9f79e27a-61f3-4f34-9139-4433b4adce13",
   "metadata": {},
   "outputs": [
    {
     "name": "stdout",
     "output_type": "stream",
     "text": [
      "Accuracy: 0.6910043724279835\n"
     ]
    }
   ],
   "source": [
    "y_pred = clf.predict(X_test)\n",
    "print(\"Accuracy:\",metrics.accuracy_score(y_test, y_pred))"
   ]
  },
  {
   "cell_type": "code",
   "execution_count": null,
   "id": "389c1bac-478e-481e-ad7d-1f2080be97ef",
   "metadata": {},
   "outputs": [],
   "source": []
  }
 ],
 "metadata": {
  "kernelspec": {
   "display_name": "Python 3",
   "language": "python",
   "name": "python3"
  },
  "language_info": {
   "codemirror_mode": {
    "name": "ipython",
    "version": 3
   },
   "file_extension": ".py",
   "mimetype": "text/x-python",
   "name": "python",
   "nbconvert_exporter": "python",
   "pygments_lexer": "ipython3",
   "version": "3.8.8"
  }
 },
 "nbformat": 4,
 "nbformat_minor": 5
}
