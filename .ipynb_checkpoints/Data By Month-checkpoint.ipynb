{
 "cells": [
  {
   "cell_type": "code",
   "execution_count": 1,
   "id": "3d17d661-8706-4609-bc8a-6fd7406c1b84",
   "metadata": {},
   "outputs": [],
   "source": [
    "import numpy as np\n",
    "import pandas as pd\n",
    "import matplotlib.pyplot as plt"
   ]
  },
  {
   "cell_type": "code",
   "execution_count": 15,
   "id": "c8f5feaf-7ed1-4397-930d-30632c11d771",
   "metadata": {},
   "outputs": [],
   "source": [
    "## Janvier\n",
    "mois = \"1Janvier\"\n",
    "j1 = 30\n",
    "j2 = 31\n",
    "\n",
    "j1 = pd.read_csv(mois + \"/\" + \"janvier\" + str(j1) + \".csv\")\n",
    "j1 = j1.drop(columns=['Unnamed: 0'])\n",
    "j2 = pd.read_csv(mois + \"/\" + \"janvier\" + str(j2) + \".csv\")\n",
    "j2 = j2.drop(columns=['Unnamed: 0'])\n",
    "janvier = pd.concat([j1, j2])\n",
    "janvier.to_csv(mois + \"/\" + \"Janvier.csv\")"
   ]
  },
  {
   "cell_type": "code",
   "execution_count": 33,
   "id": "626a89d7-96a2-448e-a62a-8f0f6790b72a",
   "metadata": {},
   "outputs": [],
   "source": [
    "## Fevrier \n",
    "mois = \"2Fevrier\"\n",
    "j1= 1\n",
    "j1 = pd.read_csv(mois + \"/\" + \"fevrier\" + str(j1) + \".csv\")\n",
    "j1 = j1.drop(columns=['Unnamed: 0'])\n"
   ]
  },
  {
   "cell_type": "code",
   "execution_count": 29,
   "id": "6892129e-caae-4a9c-98a3-d27f51215ad4",
   "metadata": {},
   "outputs": [],
   "source": []
  },
  {
   "cell_type": "code",
   "execution_count": null,
   "id": "7e1c0333-c4b7-48a8-a96e-ab859b423529",
   "metadata": {},
   "outputs": [],
   "source": []
  }
 ],
 "metadata": {
  "kernelspec": {
   "display_name": "Python 3",
   "language": "python",
   "name": "python3"
  },
  "language_info": {
   "codemirror_mode": {
    "name": "ipython",
    "version": 3
   },
   "file_extension": ".py",
   "mimetype": "text/x-python",
   "name": "python",
   "nbconvert_exporter": "python",
   "pygments_lexer": "ipython3",
   "version": "3.8.8"
  }
 },
 "nbformat": 4,
 "nbformat_minor": 5
}
