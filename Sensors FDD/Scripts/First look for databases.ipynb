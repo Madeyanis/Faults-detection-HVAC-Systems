{
 "cells": [
  {
   "cell_type": "code",
   "execution_count": 1,
   "id": "6ceef595-b08b-4362-ae89-1b5b18161873",
   "metadata": {},
   "outputs": [],
   "source": [
    "import pandas as pd\n",
    "import numpy as np\n",
    "import matplotlib.pyplot as plt"
   ]
  },
  {
   "cell_type": "code",
   "execution_count": 4,
   "id": "7c0146d9-118e-4062-9e9e-ba5ef114ee22",
   "metadata": {},
   "outputs": [],
   "source": [
    "mz21 = pd.read_csv('MZVAV-2-1.csv')\n",
    "mz22 = pd.read_csv('MZVAV-2-2.csv')\n",
    "rtu = pd.read_csv('RTU.csv')\n",
    "szcav = pd.read_csv(\"SZCAV.csv\")\n",
    "szvav = pd.read_csv('SZVAV.csv')"
   ]
  },
  {
   "cell_type": "code",
   "execution_count": 9,
   "id": "c52dcaff-fe46-41a1-b830-05717ceab1a6",
   "metadata": {},
   "outputs": [],
   "source": [
    "cols = mz21.columns.tolist()\n",
    "cols_new = ['Time', 'SA T', 'SA T Set', 'OA T', 'MA T', 'RA T',\n",
    "            'SA Fan Stat', 'RA Fan Stat', 'SA Speed', 'RA Speed',\n",
    "            'OA Damper', 'RA Damper', 'Cooling valve', 'Heating valve',\n",
    "            'SA Pressure Set', 'SA Pressure', 'Occupancy', 'Fault']\n",
    "dii = dict(zip(cols, cols_new))\n",
    "mz21 = mz21.rename(columns=dii)"
   ]
  },
  {
   "cell_type": "code",
   "execution_count": 31,
   "id": "d654149c-2070-43b7-97a6-4f656bc6fbcb",
   "metadata": {},
   "outputs": [],
   "source": [
    "days = list()\n",
    "\n",
    "for i in mz21['Time']:\n",
    "    days.append(i.split()[0])\n",
    "\n",
    "days = set(days)"
   ]
  },
  {
   "cell_type": "code",
   "execution_count": 32,
   "id": "aadbb097-163e-44b7-9ac4-02ef9b102d86",
   "metadata": {},
   "outputs": [
    {
     "data": {
      "text/plain": [
       "{'1/19/2009',\n",
       " '2/16/2009',\n",
       " '2/17/2009',\n",
       " '5/3/2009',\n",
       " '5/30/2009',\n",
       " '5/31/2009',\n",
       " '5/4/2009',\n",
       " '5/5/2009',\n",
       " '5/6/2009',\n",
       " '8/19/2008',\n",
       " '8/25/2008',\n",
       " '8/28/2007',\n",
       " '8/29/2007',\n",
       " '8/30/2007',\n",
       " '9/4/2008'}"
      ]
     },
     "execution_count": 32,
     "metadata": {},
     "output_type": "execute_result"
    }
   ],
   "source": [
    "days"
   ]
  },
  {
   "cell_type": "code",
   "execution_count": null,
   "id": "ba836496-ae66-4c21-9b4f-8c44b8d3974a",
   "metadata": {},
   "outputs": [],
   "source": []
  }
 ],
 "metadata": {
  "kernelspec": {
   "display_name": "Python 3",
   "language": "python",
   "name": "python3"
  },
  "language_info": {
   "codemirror_mode": {
    "name": "ipython",
    "version": 3
   },
   "file_extension": ".py",
   "mimetype": "text/x-python",
   "name": "python",
   "nbconvert_exporter": "python",
   "pygments_lexer": "ipython3",
   "version": "3.8.8"
  }
 },
 "nbformat": 4,
 "nbformat_minor": 5
}
