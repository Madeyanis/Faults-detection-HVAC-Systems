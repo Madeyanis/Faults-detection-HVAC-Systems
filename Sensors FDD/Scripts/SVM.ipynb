{
 "cells": [
  {
   "cell_type": "code",
   "execution_count": 2,
   "id": "98de9182-00aa-4090-9526-9b8028752c95",
   "metadata": {},
   "outputs": [],
   "source": [
    "import pandas as pd\n",
    "import numpy as np\n",
    "from sklearn import svm\n",
    "from sklearn.model_selection import cross_val_score\n",
    "from sklearn import metrics\n",
    "from sklearn.model_selection import train_test_split\n",
    "from sklearn.pipeline import make_pipeline\n",
    "from sklearn.preprocessing import StandardScaler\n",
    "from sklearn.model_selection import ShuffleSplit"
   ]
  },
  {
   "cell_type": "code",
   "execution_count": 2,
   "id": "1c0fce45-89c0-4711-8d5c-f97e56fd3913",
   "metadata": {},
   "outputs": [],
   "source": [
    "# data 1°C\n",
    "data_f_1C = pd.read_csv('Fault 1C/faulted_1C.csv', index_col=[0])\n",
    "data_uf_1C = pd.read_csv('Fault 1C/unfaulted_1C.csv', index_col=[0])\n",
    "data_uf_1C['Fault'] = 0\n",
    "\n",
    "# data 2°C\n",
    "data_f_2C = pd.read_csv('Fault 2C/faulted_2C.csv', index_col=[0])\n",
    "data_uf_2C = pd.read_csv('Fault 2C/unfaulted_2C.csv', index_col=[0])\n",
    "data_uf_2C['Fault'] = 0\n",
    "data_f_2C['Fault'] = 2\n",
    "\n",
    "# data 4°C\n",
    "data_f_4C = pd.read_csv('Fault 4C/faulted_4C.csv', index_col=[0])\n",
    "data_uf_4C = pd.read_csv('Fault 4C/unfaulted_4C.csv', index_col=[0])\n",
    "data_uf_4C['Fault'] = 0\n",
    "data_f_4C['Fault'] = 4\n",
    "\n",
    "# unfaulted data\n",
    "data_uf_summer = pd.read_csv('Unfaulted data/unfaulted_summer.csv', index_col=[0])\n",
    "data_uf_spring = pd.read_csv('Unfaulted data/unfaulted_spring.csv', index_col=[0])\n",
    "data_uf_winter = pd.read_csv('Unfaulted data/unfaulted_winter.csv', index_col=[0])\n",
    "data_uf_automn = pd.read_csv('Unfaulted data/unfaulted_automn.csv', index_col=[0])"
   ]
  },
  {
   "cell_type": "code",
   "execution_count": 1,
   "id": "b7835128-beaa-494d-b8ee-b335d7b2bc1e",
   "metadata": {},
   "outputs": [
    {
     "ename": "NameError",
     "evalue": "name 'pd' is not defined",
     "output_type": "error",
     "traceback": [
      "\u001b[1;31m---------------------------------------------------------------------------\u001b[0m",
      "\u001b[1;31mNameError\u001b[0m                                 Traceback (most recent call last)",
      "\u001b[1;32m<ipython-input-1-4e64dc125928>\u001b[0m in \u001b[0;36m<module>\u001b[1;34m\u001b[0m\n\u001b[0;32m      1\u001b[0m \u001b[1;31m# data faulted and unfaulted (1°C, 2°C and 4°C)\u001b[0m\u001b[1;33m\u001b[0m\u001b[1;33m\u001b[0m\u001b[1;33m\u001b[0m\u001b[0m\n\u001b[1;32m----> 2\u001b[1;33m \u001b[0mdata\u001b[0m \u001b[1;33m=\u001b[0m \u001b[0mpd\u001b[0m\u001b[1;33m.\u001b[0m\u001b[0mconcat\u001b[0m\u001b[1;33m(\u001b[0m\u001b[1;33m[\u001b[0m\u001b[0mdata_f_1C\u001b[0m\u001b[1;33m,\u001b[0m \u001b[0mdata_f_2C\u001b[0m\u001b[1;33m,\u001b[0m \u001b[0mdata_f_4C\u001b[0m\u001b[1;33m,\u001b[0m \u001b[0mdata_uf_summer\u001b[0m\u001b[1;33m,\u001b[0m \u001b[0mdata_uf_spring\u001b[0m\u001b[1;33m,\u001b[0m \u001b[0mdata_uf_winter\u001b[0m\u001b[1;33m,\u001b[0m \u001b[0mdata_uf_automn\u001b[0m\u001b[1;33m]\u001b[0m\u001b[1;33m)\u001b[0m\u001b[1;33m\u001b[0m\u001b[1;33m\u001b[0m\u001b[0m\n\u001b[0m\u001b[0;32m      3\u001b[0m \u001b[0mx\u001b[0m \u001b[1;33m=\u001b[0m \u001b[0mdata\u001b[0m\u001b[1;33m.\u001b[0m\u001b[0mdrop\u001b[0m\u001b[1;33m(\u001b[0m\u001b[0mcolumns\u001b[0m\u001b[1;33m=\u001b[0m\u001b[1;33m[\u001b[0m\u001b[1;34m'Fault'\u001b[0m\u001b[1;33m,\u001b[0m \u001b[1;34m'Time'\u001b[0m\u001b[1;33m]\u001b[0m\u001b[1;33m)\u001b[0m\u001b[1;33m\u001b[0m\u001b[1;33m\u001b[0m\u001b[0m\n\u001b[0;32m      4\u001b[0m \u001b[0my\u001b[0m \u001b[1;33m=\u001b[0m \u001b[0mdata\u001b[0m\u001b[1;33m[\u001b[0m\u001b[1;34m'Fault'\u001b[0m\u001b[1;33m]\u001b[0m\u001b[1;33m\u001b[0m\u001b[1;33m\u001b[0m\u001b[0m\n\u001b[0;32m      5\u001b[0m \u001b[0mX_train\u001b[0m\u001b[1;33m,\u001b[0m \u001b[0mX_test\u001b[0m\u001b[1;33m,\u001b[0m \u001b[0my_train\u001b[0m\u001b[1;33m,\u001b[0m \u001b[0my_test\u001b[0m \u001b[1;33m=\u001b[0m \u001b[0mtrain_test_split\u001b[0m\u001b[1;33m(\u001b[0m\u001b[0mx\u001b[0m\u001b[1;33m,\u001b[0m \u001b[0my\u001b[0m\u001b[1;33m,\u001b[0m \u001b[0mtest_size\u001b[0m\u001b[1;33m=\u001b[0m\u001b[1;36m0.2\u001b[0m\u001b[1;33m,\u001b[0m \u001b[0mrandom_state\u001b[0m\u001b[1;33m=\u001b[0m\u001b[1;36m1\u001b[0m\u001b[1;33m)\u001b[0m\u001b[1;33m\u001b[0m\u001b[1;33m\u001b[0m\u001b[0m\n",
      "\u001b[1;31mNameError\u001b[0m: name 'pd' is not defined"
     ]
    }
   ],
   "source": [
    "# data faulted and unfaulted (1°C, 2°C and 4°C)\n",
    "data = pd.concat([data_f_1C, data_f_2C, data_f_4C, data_uf_summer, data_uf_spring, data_uf_winter, data_uf_automn])\n",
    "x = data.drop(columns=['Fault', 'Time'])\n",
    "y = data['Fault']\n",
    "X_train, X_test, y_train, y_test = train_test_split(x, y, test_size=0.2, random_state=1)"
   ]
  },
  {
   "cell_type": "code",
   "execution_count": null,
   "id": "aa0c5518-b74f-4379-bbe8-d2fd1134930f",
   "metadata": {},
   "outputs": [
    {
     "name": "stdout",
     "output_type": "stream",
     "text": [
      "[LibSVM]"
     ]
    }
   ],
   "source": [
    "clf = svm.NuSVC(gamma=\"auto\", verbose=True)\n",
    "#clf.fit(X_train, y_train)\n",
    "cv = ShuffleSplit(n_splits=1, test_size=0.3, random_state=0)\n",
    "scores = cross_val_score(clf, x, y, cv=cv)\n",
    "print(scores)"
   ]
  },
  {
   "cell_type": "code",
   "execution_count": null,
   "id": "0b0eb6d8-9424-4599-9057-2886568b23b8",
   "metadata": {},
   "outputs": [],
   "source": []
  }
 ],
 "metadata": {
  "kernelspec": {
   "display_name": "Python 3",
   "language": "python",
   "name": "python3"
  },
  "language_info": {
   "codemirror_mode": {
    "name": "ipython",
    "version": 3
   },
   "file_extension": ".py",
   "mimetype": "text/x-python",
   "name": "python",
   "nbconvert_exporter": "python",
   "pygments_lexer": "ipython3",
   "version": "3.8.8"
  }
 },
 "nbformat": 4,
 "nbformat_minor": 5
}
